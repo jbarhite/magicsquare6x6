{
 "metadata": {
  "name": "",
  "signature": "sha256:407f23528c4e326c21108a8015cdaa8c2af49e1d6f0272946e200678ffd45da2"
 },
 "nbformat": 3,
 "nbformat_minor": 0,
 "worksheets": [
  {
   "cells": [
    {
     "cell_type": "code",
     "collapsed": false,
     "input": [
      "from random import randint\n",
      "import time"
     ],
     "language": "python",
     "metadata": {},
     "outputs": [],
     "prompt_number": 152
    },
    {
     "cell_type": "code",
     "collapsed": false,
     "input": [
      "def partitions(n, highest=-1, most=-1):\n",
      "    if n < 1: return [[]]\n",
      "    if most == 0 or highest == 0: return []\n",
      "    if highest < 0: highest = n\n",
      "    if most < 0: most = n\n",
      "    if n == 1: return [[1]]\n",
      "    parts = []\n",
      "    for i in range(1, min(n, highest) + 1):\n",
      "        subparts = partitions(n - i, i - 1, most - 1)\n",
      "        for j in subparts:\n",
      "            parts.append([i] + j)\n",
      "    return parts\n",
      "\n",
      "def magicSquarePartitions(n):\n",
      "    return [i for i in partitions(n*(n*n+1)/2, n*n, n) if len(i) == n]\n",
      "\n",
      "# return partitions from partition list parts having elements in common with partition p\n",
      "def removePartitions(parts, p):\n",
      "    return [part for part in parts if len([i for i in p if i in part]) == 0]\n",
      "            \n",
      "# list compatible partition sets (sets of n disjoint partitions) from parts\n",
      "def listCPS(parts, n):\n",
      "    if n == 1:\n",
      "        if len(parts): return [[part] for part in parts]\n",
      "        if len(parts): return [parts]\n",
      "        return []\n",
      "    CPS = []\n",
      "    for i in range(len(parts)):\n",
      "        for completion in listCPS(removePartitions(parts[i:], parts[i]), n - 1):\n",
      "            CPS.append([parts[i]] + completion)\n",
      "    return CPS\n",
      "\n",
      "# estimates the number of ways of choosing n compatible partitions from parts (by actually choosing them at random)\n",
      "def estimatePartitionSets(parts, n):\n",
      "    s = len(parts)\n",
      "    for i in range(n - 1):\n",
      "        if len(parts) == 0: return 0\n",
      "        p = removePartitions(parts, parts[randint(0, len(parts) - 1)])\n",
      "        s *= len(parts)\n",
      "    return s\n",
      "\n",
      "# return partitions from parts with one element from each of the 4 partitions in rows\n",
      "def possibleColumnPartitions(parts, rows):\n",
      "    return [part for part in parts if all([len([i for i in part if i in row]) == 1 for row in rows])]\n",
      "    # I hope I never have to debug this line"
     ],
     "language": "python",
     "metadata": {},
     "outputs": [],
     "prompt_number": 98
    },
    {
     "cell_type": "code",
     "collapsed": false,
     "input": [
      "[len(magicSquarePartitions(n)) for n in range(3, 7)]"
     ],
     "language": "python",
     "metadata": {},
     "outputs": [
      {
       "metadata": {},
       "output_type": "pyout",
       "prompt_number": 120,
       "text": [
        "[8, 86, 1394, 32134]"
       ]
      }
     ],
     "prompt_number": 120
    },
    {
     "cell_type": "code",
     "collapsed": false,
     "input": [
      "start = time.clock()\n",
      "n = 4\n",
      "p = magicSquarePartitions(n)\n",
      "CPS = listCPS(p, n)\n",
      "\n",
      "m = 0\n",
      "for rows in CPS:\n",
      "    colParts = possibleColumnPartitions(p, rows)\n",
      "    for cols in listCPS(colParts, n):\n",
      "        for diags in listCPS(possibleColumnPartitions(colParts, cols), 2):\n",
      "            d2c = [] # (row, column) coordinates of elements in 2nd diagonal\n",
      "            for j in range(len(diags[1])):\n",
      "                d2c.append(\n",
      "                    4 * [i for i in range(len(diags[1])) if any([diags[0][i] in row and diags[1][j] in row for row in rows])][0] +\n",
      "                    [i for i in range(len(diags[1])) if any([diags[0][i] in col and diags[1][j] in col for col in cols])][0]\n",
      "                )\n",
      "            d2c.sort()\n",
      "            if d2c == [3, 6, 9, 12] or d2c == [2, 7, 8, 13] or d2c == [1, 4, 11, 14]: m += 1\n",
      "print 2 * m\n",
      "print time.clock() - start"
     ],
     "language": "python",
     "metadata": {},
     "outputs": [
      {
       "output_type": "stream",
       "stream": "stdout",
       "text": [
        "880\n",
        "0.349624\n"
       ]
      }
     ],
     "prompt_number": 159
    }
   ],
   "metadata": {}
  }
 ]
}