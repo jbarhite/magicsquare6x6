{
 "metadata": {
  "name": "",
  "signature": "sha256:9b22010b47b0a9bb849de8c5982dfaa9d8dd10aa1a011e127e0bf309f1c0373f"
 },
 "nbformat": 3,
 "nbformat_minor": 0,
 "worksheets": [
  {
   "cells": [
    {
     "cell_type": "code",
     "collapsed": false,
     "input": [
      "from random import randint"
     ],
     "language": "python",
     "metadata": {},
     "outputs": [],
     "prompt_number": 7
    },
    {
     "cell_type": "code",
     "collapsed": false,
     "input": [
      "def partitions(n, highest=-1, most=-1):\n",
      "    if n < 1: return [[]]\n",
      "    if most == 0 or highest == 0: return []\n",
      "    if highest < 0: highest = n\n",
      "    if most < 0: most = n\n",
      "    if n == 1: return [[1]]\n",
      "    parts = []\n",
      "    for i in range(1, min(n, highest) + 1):\n",
      "        subparts = partitions(n - i, i - 1, most - 1)\n",
      "        for j in subparts:\n",
      "            parts.append([i] + j)\n",
      "    return parts\n",
      "\n",
      "def magicSquarePartitions(n):\n",
      "    return [i for i in partitions(n*(n*n+1)/2, n*n, n) if len(i) == n]\n",
      "\n",
      "# return partitions from partition list parts having elements in common with partition p\n",
      "def removePartitions(parts, p):\n",
      "    return [part for part in parts if len([i for i in p if i in part]) == 0]\n",
      "\n",
      "def estimatePartitionSets(p, n):\n",
      "    s = len(p)\n",
      "    for i in range(n - 1):\n",
      "        if len(p) == 0: return 0\n",
      "        p = removePartitions(p, p[randint(0, len(p) - 1)])\n",
      "        s *= len(p)\n",
      "    return s"
     ],
     "language": "python",
     "metadata": {},
     "outputs": [],
     "prompt_number": 147
    },
    {
     "cell_type": "code",
     "collapsed": false,
     "input": [
      "[len(magicSquarePartitions(n)) for n in range(3, 7)]"
     ],
     "language": "python",
     "metadata": {},
     "outputs": [
      {
       "metadata": {},
       "output_type": "pyout",
       "prompt_number": 120,
       "text": [
        "[8, 86, 1394, 32134]"
       ]
      }
     ],
     "prompt_number": 120
    },
    {
     "cell_type": "code",
     "collapsed": false,
     "input": [
      "p = magicSquarePartitions(5)\n",
      "# print sorted([len(removePartitions(p, i)) for i in p])\n",
      "print sum([estimatePartitionSets(p, 5) for i in range(10000)]) / 10000"
     ],
     "language": "python",
     "metadata": {},
     "outputs": [
      {
       "output_type": "stream",
       "stream": "stdout",
       "text": [
        "391910542\n"
       ]
      }
     ],
     "prompt_number": 224
    }
   ],
   "metadata": {}
  }
 ]
}